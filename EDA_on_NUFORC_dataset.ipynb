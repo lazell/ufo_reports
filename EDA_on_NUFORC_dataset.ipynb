{
 "cells": [
  {
   "cell_type": "code",
   "execution_count": 1,
   "metadata": {},
   "outputs": [],
   "source": [
    "import pandas as pd\n",
    "import numpy as np\n",
    "import matplotlib\n",
    "import matplotlib.pyplot as plt\n",
    "from textblob import TextBlob\n",
    "\n",
    "from relative_popularity_reports import load_and_process\n",
    "\n",
    "%matplotlib inline"
   ]
  },
  {
   "cell_type": "markdown",
   "metadata": {},
   "source": [
    "### Preview UFO Database Reports Data"
   ]
  },
  {
   "cell_type": "code",
   "execution_count": 2,
   "metadata": {},
   "outputs": [
    {
     "data": {
      "text/html": [
       "<div>\n",
       "<style scoped>\n",
       "    .dataframe tbody tr th:only-of-type {\n",
       "        vertical-align: middle;\n",
       "    }\n",
       "\n",
       "    .dataframe tbody tr th {\n",
       "        vertical-align: top;\n",
       "    }\n",
       "\n",
       "    .dataframe thead th {\n",
       "        text-align: right;\n",
       "    }\n",
       "</style>\n",
       "<table border=\"1\" class=\"dataframe\">\n",
       "  <thead>\n",
       "    <tr style=\"text-align: right;\">\n",
       "      <th></th>\n",
       "      <th>city</th>\n",
       "      <th>state</th>\n",
       "      <th>occurred</th>\n",
       "      <th>shape</th>\n",
       "      <th>duration</th>\n",
       "      <th>report</th>\n",
       "      <th>duration_clean</th>\n",
       "      <th>occurred_clean</th>\n",
       "      <th>Hour_of_day</th>\n",
       "      <th>date</th>\n",
       "      <th>month-year</th>\n",
       "      <th>year</th>\n",
       "    </tr>\n",
       "  </thead>\n",
       "  <tbody>\n",
       "    <tr>\n",
       "      <th>0</th>\n",
       "      <td>Camp McGregor, NM</td>\n",
       "      <td>NM</td>\n",
       "      <td>5/6/2017 05:00</td>\n",
       "      <td>Light</td>\n",
       "      <td>10 minutes</td>\n",
       "      <td>Light seen over mountain's east of Camp McGreg...</td>\n",
       "      <td>600</td>\n",
       "      <td>2017-05-06 05:00:00</td>\n",
       "      <td>5.0</td>\n",
       "      <td>2017-5-6</td>\n",
       "      <td>2017-5</td>\n",
       "      <td>2017.0</td>\n",
       "    </tr>\n",
       "    <tr>\n",
       "      <th>2</th>\n",
       "      <td>Austin, TX</td>\n",
       "      <td>TX</td>\n",
       "      <td>5/5/2017 11:30</td>\n",
       "      <td>Disk</td>\n",
       "      <td>3 seconds</td>\n",
       "      <td>Flying saucer descends, possibly lands in Nort...</td>\n",
       "      <td>3</td>\n",
       "      <td>2017-05-05 11:30:00</td>\n",
       "      <td>11.0</td>\n",
       "      <td>2017-5-5</td>\n",
       "      <td>2017-5</td>\n",
       "      <td>2017.0</td>\n",
       "    </tr>\n",
       "    <tr>\n",
       "      <th>3</th>\n",
       "      <td>El Mirage, AZ</td>\n",
       "      <td>AZ</td>\n",
       "      <td>5/5/2017 03:00</td>\n",
       "      <td>Circle</td>\n",
       "      <td>30 seconds</td>\n",
       "      <td>While letting my dog out, a very bright white ...</td>\n",
       "      <td>30</td>\n",
       "      <td>2017-05-05 03:00:00</td>\n",
       "      <td>3.0</td>\n",
       "      <td>2017-5-5</td>\n",
       "      <td>2017-5</td>\n",
       "      <td>2017.0</td>\n",
       "    </tr>\n",
       "    <tr>\n",
       "      <th>4</th>\n",
       "      <td>York, NE</td>\n",
       "      <td>NE</td>\n",
       "      <td>5/4/2017 23:34</td>\n",
       "      <td>Fireball</td>\n",
       "      <td>0:18</td>\n",
       "      <td>A fire ball was moving in the atmosphere while...</td>\n",
       "      <td>18</td>\n",
       "      <td>2017-05-04 23:34:00</td>\n",
       "      <td>23.0</td>\n",
       "      <td>2017-5-4</td>\n",
       "      <td>2017-5</td>\n",
       "      <td>2017.0</td>\n",
       "    </tr>\n",
       "    <tr>\n",
       "      <th>5</th>\n",
       "      <td>Onchiota, NY</td>\n",
       "      <td>NY</td>\n",
       "      <td>5/4/2017 23:25</td>\n",
       "      <td>Unknown</td>\n",
       "      <td>1 minute</td>\n",
       "      <td>craft following above carI saw a light reflect...</td>\n",
       "      <td>60</td>\n",
       "      <td>2017-05-04 23:25:00</td>\n",
       "      <td>23.0</td>\n",
       "      <td>2017-5-4</td>\n",
       "      <td>2017-5</td>\n",
       "      <td>2017.0</td>\n",
       "    </tr>\n",
       "  </tbody>\n",
       "</table>\n",
       "</div>"
      ],
      "text/plain": [
       "                city state        occurred     shape    duration  \\\n",
       "0  Camp McGregor, NM    NM  5/6/2017 05:00     Light  10 minutes   \n",
       "2         Austin, TX    TX  5/5/2017 11:30      Disk   3 seconds   \n",
       "3      El Mirage, AZ    AZ  5/5/2017 03:00    Circle  30 seconds   \n",
       "4           York, NE    NE  5/4/2017 23:34  Fireball        0:18   \n",
       "5       Onchiota, NY    NY  5/4/2017 23:25   Unknown    1 minute   \n",
       "\n",
       "                                              report  duration_clean  \\\n",
       "0  Light seen over mountain's east of Camp McGreg...             600   \n",
       "2  Flying saucer descends, possibly lands in Nort...               3   \n",
       "3  While letting my dog out, a very bright white ...              30   \n",
       "4  A fire ball was moving in the atmosphere while...              18   \n",
       "5  craft following above carI saw a light reflect...              60   \n",
       "\n",
       "       occurred_clean  Hour_of_day      date month-year    year  \n",
       "0 2017-05-06 05:00:00          5.0  2017-5-6     2017-5  2017.0  \n",
       "2 2017-05-05 11:30:00         11.0  2017-5-5     2017-5  2017.0  \n",
       "3 2017-05-05 03:00:00          3.0  2017-5-5     2017-5  2017.0  \n",
       "4 2017-05-04 23:34:00         23.0  2017-5-4     2017-5  2017.0  \n",
       "5 2017-05-04 23:25:00         23.0  2017-5-4     2017-5  2017.0  "
      ]
     },
     "execution_count": 2,
     "metadata": {},
     "output_type": "execute_result"
    }
   ],
   "source": [
    "df = load_and_process('data/data.pkl')\n",
    "df.drop_duplicates(inplace=True)\n",
    "df.head()"
   ]
  },
  {
   "cell_type": "markdown",
   "metadata": {},
   "source": [
    "### Count how many reports containing the word 'abducted'"
   ]
  },
  {
   "cell_type": "code",
   "execution_count": 3,
   "metadata": {},
   "outputs": [
    {
     "data": {
      "text/plain": [
       "293"
      ]
     },
     "execution_count": 3,
     "metadata": {},
     "output_type": "execute_result"
    }
   ],
   "source": [
    "abducted = df[df['report'].str.contains('abducted')]\n",
    "len(abducted)"
   ]
  },
  {
   "cell_type": "markdown",
   "metadata": {},
   "source": [
    "### Count how many reports contain youtube.com hyperlinks"
   ]
  },
  {
   "cell_type": "code",
   "execution_count": 4,
   "metadata": {},
   "outputs": [
    {
     "data": {
      "text/plain": [
       "265"
      ]
     },
     "execution_count": 4,
     "metadata": {},
     "output_type": "execute_result"
    }
   ],
   "source": [
    "youtube = df[df['report'].str.contains('youtube.com/')]\n",
    "len(youtube)"
   ]
  },
  {
   "cell_type": "code",
   "execution_count": 8,
   "metadata": {},
   "outputs": [
    {
     "data": {
      "text/plain": [
       "93784"
      ]
     },
     "execution_count": 8,
     "metadata": {},
     "output_type": "execute_result"
    }
   ],
   "source": [
    "nuforc_note = df[df['report'].str.contains('NUFORC Note')]\n",
    "len(nuforc_note)\n",
    "len(df)"
   ]
  },
  {
   "cell_type": "markdown",
   "metadata": {},
   "source": [
    "### Estimate no. of reports NUFORC seeked or made contact with a witness "
   ]
  },
  {
   "cell_type": "code",
   "execution_count": 5,
   "metadata": {},
   "outputs": [
    {
     "data": {
      "text/plain": [
       "788"
      ]
     },
     "execution_count": 5,
     "metadata": {},
     "output_type": "execute_result"
    }
   ],
   "source": [
    "nuforc1 = df[(df['report'].str.contains('NUFORC Note')) & (df['report'].str.contains('contacted'))]\n",
    "nuforc2 = df[(df['report'].str.contains('NUFORC Note')) & (df['report'].str.contains('talked'))]\n",
    "\n",
    "nuforc = nuforc1.merge(nuforc2, how='outer', left_index=True, right_index=True)\n",
    "len(nuforc)"
   ]
  },
  {
   "cell_type": "markdown",
   "metadata": {},
   "source": [
    "### List the top 15 cities which report sightings the most"
   ]
  },
  {
   "cell_type": "code",
   "execution_count": 7,
   "metadata": {},
   "outputs": [
    {
     "data": {
      "text/html": [
       "<div>\n",
       "<style scoped>\n",
       "    .dataframe tbody tr th:only-of-type {\n",
       "        vertical-align: middle;\n",
       "    }\n",
       "\n",
       "    .dataframe tbody tr th {\n",
       "        vertical-align: top;\n",
       "    }\n",
       "\n",
       "    .dataframe thead th {\n",
       "        text-align: right;\n",
       "    }\n",
       "</style>\n",
       "<table border=\"1\" class=\"dataframe\">\n",
       "  <thead>\n",
       "    <tr style=\"text-align: right;\">\n",
       "      <th></th>\n",
       "      <th>report</th>\n",
       "    </tr>\n",
       "    <tr>\n",
       "      <th>city</th>\n",
       "      <th></th>\n",
       "    </tr>\n",
       "  </thead>\n",
       "  <tbody>\n",
       "    <tr>\n",
       "      <th>Seattle, WA</th>\n",
       "      <td>633</td>\n",
       "    </tr>\n",
       "    <tr>\n",
       "      <th>Phoenix, AZ</th>\n",
       "      <td>620</td>\n",
       "    </tr>\n",
       "    <tr>\n",
       "      <th>Las Vegas, NV</th>\n",
       "      <td>497</td>\n",
       "    </tr>\n",
       "    <tr>\n",
       "      <th>San Diego, CA</th>\n",
       "      <td>422</td>\n",
       "    </tr>\n",
       "    <tr>\n",
       "      <th>Los Angeles, CA</th>\n",
       "      <td>419</td>\n",
       "    </tr>\n",
       "    <tr>\n",
       "      <th>Chicago, IL</th>\n",
       "      <td>357</td>\n",
       "    </tr>\n",
       "    <tr>\n",
       "      <th>Houston, TX</th>\n",
       "      <td>350</td>\n",
       "    </tr>\n",
       "    <tr>\n",
       "      <th>Tucson, AZ</th>\n",
       "      <td>333</td>\n",
       "    </tr>\n",
       "    <tr>\n",
       "      <th>Orlando, FL</th>\n",
       "      <td>299</td>\n",
       "    </tr>\n",
       "    <tr>\n",
       "      <th>Albuquerque, NM</th>\n",
       "      <td>297</td>\n",
       "    </tr>\n",
       "    <tr>\n",
       "      <th>Miami, FL</th>\n",
       "      <td>295</td>\n",
       "    </tr>\n",
       "    <tr>\n",
       "      <th>Austin, TX</th>\n",
       "      <td>268</td>\n",
       "    </tr>\n",
       "    <tr>\n",
       "      <th>Sacramento, CA</th>\n",
       "      <td>264</td>\n",
       "    </tr>\n",
       "    <tr>\n",
       "      <th>Denver, CO</th>\n",
       "      <td>243</td>\n",
       "    </tr>\n",
       "    <tr>\n",
       "      <th>San Jose, CA</th>\n",
       "      <td>239</td>\n",
       "    </tr>\n",
       "  </tbody>\n",
       "</table>\n",
       "</div>"
      ],
      "text/plain": [
       "                 report\n",
       "city                   \n",
       "Seattle, WA         633\n",
       "Phoenix, AZ         620\n",
       "Las Vegas, NV       497\n",
       "San Diego, CA       422\n",
       "Los Angeles, CA     419\n",
       "Chicago, IL         357\n",
       "Houston, TX         350\n",
       "Tucson, AZ          333\n",
       "Orlando, FL         299\n",
       "Albuquerque, NM     297\n",
       "Miami, FL           295\n",
       "Austin, TX          268\n",
       "Sacramento, CA      264\n",
       "Denver, CO          243\n",
       "San Jose, CA        239"
      ]
     },
     "execution_count": 7,
     "metadata": {},
     "output_type": "execute_result"
    }
   ],
   "source": [
    "df_cities = pd.DataFrame(df.groupby('city')['report'].nunique())\n",
    "top_15_cities = df_cities.sort_values('report', ascending=False)[:15]\n",
    "top_15_cities"
   ]
  },
  {
   "cell_type": "code",
   "execution_count": 8,
   "metadata": {},
   "outputs": [
    {
     "data": {
      "text/plain": [
       "([0, 1, 2, 3, 4, 5, 6, 7, 8, 9, 10, 11, 12, 13, 14],\n",
       " <a list of 15 Text xticklabel objects>)"
      ]
     },
     "execution_count": 8,
     "metadata": {},
     "output_type": "execute_result"
    },
    {
     "data": {
      "image/png": "[encoded data removed]",
      "text/plain": [
       "<matplotlib.figure.Figure at 0x119883d30>"
      ]
     },
     "metadata": {},
     "output_type": "display_data"
    }
   ],
   "source": [
    "font = {'family' : 'sans-serif',\n",
    "        'weight' : 'normal',\n",
    "        'size'   : 14}\n",
    "\n",
    "matplotlib.rc('font', **font)\n",
    "\n",
    "plt.figure(figsize=(15,6))\n",
    "plt.bar(top_15_cities.index, top_15_cities['report']\n",
    "       ,color ='#FAB669')\n",
    "plt.title('Most reported UFO sightings by City')\n",
    "plt.xticks(rotation=90)"
   ]
  },
  {
   "cell_type": "markdown",
   "metadata": {},
   "source": [
    "### Exploratory NLP: Sentiment Analysis"
   ]
  },
  {
   "cell_type": "code",
   "execution_count": 29,
   "metadata": {},
   "outputs": [
    {
     "name": "stdout",
     "output_type": "stream",
     "text": [
      "Row_ID: 818 1.0\n",
      "My friend and I were driving when we saw this circle object floating in the sky,  it wasn't moving at all,  when we passed under the object, we could perfectly see that it was a circle UFO with a lot of lights and no sounds. \n",
      "\n",
      "Row_ID: 4089 0.8\n",
      "Sitting on porch, orange colored ball traveling north-northeast to south-southwest.  Went across the sky at great speed and disappeared. \n",
      "\n",
      "Row_ID: 6272 0.8\n",
      "Laying in chair watching stars.  Saw lighted object fly across sky in about 5 seconds flying west to east.  The color was Amber like.  Flying in one line across.  Or side by side. \n",
      "\n",
      "Row_ID: 8805 1.0\n",
      "FOUR ORANGE LIGHTS IN PERFECT ALIGNMENTFOUR LIGHTS IN PERFECT ALIGNMENT \n",
      "\n",
      "Row_ID: 9551 0.8\n",
      "This thing was dripping fire, Ball lightening, comet maybe.This thing was dripping fire, Ball lightening, comet, maybe God.  lol  When I tried to zoom in I would lose it.&lt;iframe width=\"560\" height=\"315\" src=https://www.youtube.com/embed/DijFTU4B8IE\" frameborder=\"0\" allowfullscreen&gt;&lt;/iframe&gt; \n",
      "\n",
      "Row_ID: 10085 0.8\n",
      "Wife and I saw an glowing orange orb fly overhead, and then disappear to the west..... \n",
      "\n",
      "Row_ID: 10193 1.0\n",
      "I have 4 excellent pictures would like someone to look at them. \n",
      "\n",
      "Row_ID: 13645 1.0\n",
      "I reported this incident in approx. 2004 and got no response on perfect semi circle vapor trail \n",
      "\n",
      "Row_ID: 17811 1.0\n",
      "Was 3 balls in traingle shape.Was 3 lights then went to two.was awesome.  They were like fireballs in triangle.  Was like at tree tops.really close.  I tried take pics and couldnt.then looked at phone and had one of the 2 balls. \n",
      "\n",
      "Row_ID: 17878 0.8750000000000001\n",
      "Four orbs spotted over Wilmington, DE.Four bright orange orbs were spotted flying horizontally in a zig zag pattern then disappeared one by one, we have it on film! \n",
      "\n",
      "Row_ID: 18070 1.0\n",
      "AWESOME! \n",
      "\n",
      "Row_ID: 18414 0.9100000000000001\n",
      "Very bright angular object that stayed motionless within eye view; lots of disturbed birds.((name deleted)) \n",
      "\n",
      "Row_ID: 19338 0.9100000000000001\n",
      "I was driving North into Warren in the mid-morning, and I saw 3 cigar shape crafts, with no wings. 2 ships heading East, 1 ships heading West.  They were very bright. \n",
      "\n",
      "Row_ID: 19811 0.8\n",
      "Fly over in V formation 17 to 23 craft bouncing around. \n",
      "\n",
      "Row_ID: 24405 -0.8\n",
      "Glowing orange ballDriving home from a friend's house, looked west towards McConnell Air force Base and noticed an orange glowing orb in the sky not appearing to move for a matter of 1-2 minutes before I lost sight threw trees. \n",
      "\n",
      "Row_ID: 25295 0.9\n",
      "Shape changing fireball that hovered close to the ground an flew off with incredible speed. \n",
      "\n",
      "Row_ID: 26025 0.9100000000000001\n",
      "Seen coming from south west went out over Lake Erie.  It was a very bright orange ball of fire. \n",
      "\n",
      "Row_ID: 30225 0.8\n",
      "Fireball flew into  woods.I wason the balcony of the courtyard by marriott and saw a fireball fly from the sky into the woods about 300 yards away. \n",
      "\n",
      "Row_ID: 34845 0.8\n",
      "Two orange lights that didnt move at all then disappeared.There were two orange circular lights I've never seen before.  They were there 2-4 mins and I took three pictures.  Then they were gone.  They didn't fly away or move they just dissappered.  I was looking south towards Pueblo. \n",
      "\n",
      "Row_ID: 45345 -0.8\n",
      "we were having a fire and then we were messing with a lazar in the smoke to see the bean and then the UFO came and it scared the crap out of me and my friends bother is in flight school and she said it would have been miltary but what would they be doing over in MN pluse it was about 30000 feet in the air  500 Lights On Object0: Yes \n",
      "\n",
      "Row_ID: 45661 0.9100000000000001\n",
      "3/12/10Viewed a comet like object very bright fall out of the sky about 1 mile.  Reaching That point we witnessed The Triangle Craft. \n",
      "\n",
      "Row_ID: 48499 0.7916666666666666\n",
      "Best firework pic everI didnt know I had this and this is a follow -up to the original report.  Since I havent heard from anyone do NOT use this info unless you have contacted me for permission by phone or e-mail.((NUFORC Note:  To the best of our knowledge, we have not received the photo.  We can't view it or post it, unless we receive it.  PD \n",
      "\n",
      "Row_ID: 49643 0.8\n",
      "i do not believe it was something from this planet...very strange.the object hovered for about 3 minutes and then shot of to the west at great speed.the object was a bluish color with what looked like a row of windows on the side and a singal strobe on the front that pulsated.made no sound.i am an electrical engineer and i was with my 2 children 11 and 9. \n",
      "\n",
      "Row_ID: 49731 0.8\n",
      "After seeing aircraft fly over head it or another hovered in sky for 20 minutes with multicolored lights.((NUFORC Note:  Star??  PD)) \n",
      "\n",
      "Row_ID: 60767 0.78\n",
      "this formation has been flying around in a circular motin for about 1 hr. it is a hazy circular form and the objects are flying in a circular motion. sometimes it is as if they catch up with one another and appear to touch. it is a very spectacular sight. \n",
      "\n",
      "Row_ID: 71681 1.0\n",
      "3 ufos in hanger in FL.I met an airman in north dakota when i was based there in 1970,who told me that his uncle who owned drill company fl. said that he, is uncle was asked by USAF to come with the best drills he had. He Did and they took him to a hanger on one of the airbases in FL. His uncle told him that there were 3saucer like craft there. He was asked to drill into one of them and he tried. He said he drilled in one spot for about 15 mins. There was no sign of any marks where the drill had been placed, No heat or color change no nothing. I never saw the airman again. \n",
      "\n",
      "Row_ID: 73109 -0.8\n",
      "SAC at Malstrom AF Base not Concerned!Out skirts of Malstrom AFB, my parents, 2 sisters,2 guests of parents my girlfriend and myself.Bright sunny day, we were on a cookout and 7 saucer shaped crafts flying in formation cruised across the sky. My father was a 22 year weather obsever and guessed their alittude at 12 to 15 thousand feet and their speed was guessed at 2 to 6 thousand miles an hour.  NO Alert from SAC at Malstrom???? They were traveling from southwest to northeast. \n",
      "\n",
      "Row_ID: 79768 -0.8125\n",
      "i was taking my kids to school in the morning,i was on highway 290 heading east when i noticed a shining chrome like object in the sky!\t as i continued driving i looked closer and saw very faint objects flying into the sphere! \n",
      "\n",
      "Row_ID: 81847 0.8\n",
      "I was walking dog, herd something that sounded like geese flying overhead, looked up, and saw 6 to 8 side by side flickering lights fly by, for sbout 3 seconds, then were outa sight, scared the hell out of me. im' no wacko i saw what i saw, swear to god. \n",
      "\n",
      "Row_ID: 88048 0.8\n",
      "Silver ball, approx 500-1000 feet altitude, .5 to 1 mile N. of Freeway 101 @ 59th aveSilver ball, approx 500 to 1000 feet altitude, .5 to 1 mile N. of 101 Freeway and 59th Avenue.  The ball was stationary. I saw it for about 5 seconds, and then it just dissapeared.  It didn't fly off, it just vanished. (anticlimactic, huh?) \n",
      "\n",
      "Row_ID: 89785 0.8500000000000001\n",
      "Driver & passenger witness \"triad of extremely bright lights\" in perfectly triangular pattern. Lights faded. \n",
      "\n",
      "Row_ID: 89824 0.9100000000000001\n",
      "Woman repts. very bright obj. in S sky.  Brighter than star.  Not visible 23FE95. \n",
      "\n",
      "Row_ID: 89882 0.805\n",
      "Comm./mil. (C-141)  pilot reports \"jumble\" of very bright lights.  Approached his pos., crossed road, departed.  Good rept.. \n",
      "\n",
      "Row_ID: 89972 0.8\n",
      "Man repts. peculiar sightings he & sister had experienced sometime during spring l993.  Will send report. \n",
      "\n",
      "Row_ID: 90003 1.0\n",
      "Very bright oval object that appeared to resemble a star approx. 5 am in the morning.  It has been visible in the morning for 3 days now.  It disappears when the sun rises.  It does not move! \n",
      "\n"
     ]
    }
   ],
   "source": [
    "# Polarity: using TextBlob, asssess the sentiment of each report text: negative sentiment(-1) and positive sentiment(+1)\n",
    "\n",
    "def explore_sentiment_polarity(df, neg_threshold, pos_threshold):\n",
    "    for i in range(0,len(df)): \n",
    "        text = df.iloc[i]['report']\n",
    "        report_test = TextBlob(text)\n",
    "        if report_test.sentiment.polarity < neg_threshold or report_test.sentiment.polarity > pos_threshold:\n",
    "            print ('Row_ID:',i, report_test.sentiment.polarity)\n",
    "            print (text, '\\n')\n",
    "\n",
    "            \n",
    "explore_sentiment_polarity(df, -0.75, 0.75)"
   ]
  },
  {
   "cell_type": "code",
   "execution_count": null,
   "metadata": {
    "collapsed": true
   },
   "outputs": [],
   "source": [
    "# Subjectivity: using TextBlob, assess corpus for subjectivity: very objective(0) and very subjective(1)\n",
    "\n",
    "def explore_sentiment_subjectivity(df, sub_threshold, obj_threshold):\n",
    "    \n",
    "    subjective = 0\n",
    "    neutral = 0\n",
    "    objective = 0\n",
    "    \n",
    "    for i in range(0,len(df)): \n",
    "        text = df.iloc[i]['report']\n",
    "        report_test = TextBlob(text)\n",
    "        if report_test.sentiment.subjectivity > sub_threshold:\n",
    "            subjective += 1\n",
    "        if report_test.sentiment.subjectivity < obj_threshold:\n",
    "            objective += 1\n",
    "\n",
    "    print ('Subjective', subjective)\n",
    "    print ('Objective', objective)\n",
    "    \n",
    "    \n",
    "explore_sentiment_subjectivity(df, 0.5, 0.2)"
   ]
  },
  {
   "cell_type": "markdown",
   "metadata": {},
   "source": [
    "Genrally polarity is skewed towards objective side rather than subjective."
   ]
  },
  {
   "cell_type": "code",
   "execution_count": 11,
   "metadata": {},
   "outputs": [
    {
     "name": "stdout",
     "output_type": "stream",
     "text": [
      "93784\n"
     ]
    }
   ],
   "source": [
    "total = len(df)\n",
    "print(total)"
   ]
  }
 ],
 "metadata": {
  "kernelspec": {
   "display_name": "Python 3",
   "language": "python",
   "name": "python3"
  },
  "language_info": {
   "codemirror_mode": {
    "name": "ipython",
    "version": 3
   },
   "file_extension": ".py",
   "mimetype": "text/x-python",
   "name": "python",
   "nbconvert_exporter": "python",
   "pygments_lexer": "ipython3",
   "version": "3.6.3"
  }
 },
 "nbformat": 4,
 "nbformat_minor": 2
}
